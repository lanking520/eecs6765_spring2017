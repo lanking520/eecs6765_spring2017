{
 "cells": [
  {
   "cell_type": "code",
   "execution_count": 1,
   "metadata": {
    "collapsed": false
   },
   "outputs": [],
   "source": [
    "import boto3\n",
    "import time\n",
    "ACCOUNT_ID = '031633745261'\n",
    "IDENTITY_POOL_ID = 'us-west-2:ad98af0c-3377-41b9-b469-1fa207c32bec'\n",
    "ROLE_ARN ='arn:aws:iam::031633745261:role/Cognito_edisonDemoKinesisUnauth_Role'\n",
    "DYNAMODB_TABLE_NAME='mtaData'"
   ]
  },
  {
   "cell_type": "markdown",
   "metadata": {},
   "source": [
    "## Get Cognito Credentials"
   ]
  },
  {
   "cell_type": "code",
   "execution_count": 2,
   "metadata": {
    "collapsed": false
   },
   "outputs": [],
   "source": [
    "client = boto3.client('cognito-identity')\n",
    "IdentityId = client.get_id(AccountId=ACCOUNT_ID,IdentityPoolId=IDENTITY_POOL_ID)\n",
    "identity = boto3.client('cognito-identity', region_name='us-west-2')\n",
    "response = identity.get_credentials_for_identity(IdentityId=IdentityId['IdentityId'])\n",
    "access_key = response['Credentials']['AccessKeyId']\n",
    "secret_key = response['Credentials']['SecretKey']"
   ]
  },
  {
   "cell_type": "code",
   "execution_count": 3,
   "metadata": {
    "collapsed": false
   },
   "outputs": [],
   "source": [
    "dynamodb = boto3.client('dynamodb',region_name='us-west-2')\n",
    "#print dir(dynamodb)\n",
    "try:\n",
    "    dynamodb.describe_table(TableName=DYNAMODB_TABLE_NAME)\n",
    "except:\n",
    "    dynamodb.create_table(TableName=DYNAMODB_TABLE_NAME,\n",
    "    KeySchema=[\n",
    "        {\n",
    "            'AttributeName': 'tripId',\n",
    "            'KeyType': 'HASH'\n",
    "        }\n",
    "    ],\n",
    "    AttributeDefinitions=[\n",
    "        {\n",
    "            'AttributeName': 'tripId',\n",
    "            'AttributeType': 'S'\n",
    "        }\n",
    "    ],\n",
    "    ProvisionedThroughput={\n",
    "        'ReadCapacityUnits': 10,\n",
    "        'WriteCapacityUnits': 10\n",
    "    }\n",
    "    )\n",
    "    print \"Creating table... Wait for 10 sec\"\n",
    "    time.sleep(10)\n",
    "dynamodb = boto3.resource('dynamodb', region_name='us-west-2')\n",
    "table = dynamodb.Table(DYNAMODB_TABLE_NAME)"
   ]
  },
  {
   "cell_type": "markdown",
   "metadata": {
    "collapsed": false
   },
   "source": [
    "## Connect to MTA Data"
   ]
  },
  {
   "cell_type": "code",
   "execution_count": 9,
   "metadata": {
    "collapsed": false
   },
   "outputs": [],
   "source": [
    "import json,time,sys\n",
    "from collections import OrderedDict\n",
    "from threading import Thread\n",
    "from boto3.dynamodb.conditions import Key, Attr\n",
    "\n",
    "sys.path.append('../utils')\n",
    "import tripupdate,vehicle,alert,mtaUpdates\n",
    "from datetime import datetime\n",
    "from pytz import timezone\n",
    "\n",
    "d = mtaUpdates.mtaUpdates('aaea8eb4efba70f2800c446e446b27e3')\n",
    "updates = d.getTripUpdates()"
   ]
  },
  {
   "cell_type": "code",
   "execution_count": 7,
   "metadata": {
    "collapsed": false
   },
   "outputs": [
    {
     "name": "stdout",
     "output_type": "stream",
     "text": [
      "Finish writing 327 lines of data\n"
     ]
    }
   ],
   "source": [
    "with table.batch_writer() as batch:\n",
    "    for update, times in updates:  \n",
    "        if not update.vehicleData:\n",
    "            update.vehicleData = vehicle.vehicle()\n",
    "        batch.put_item(Item= {\n",
    "                \"tripId\":update.tripId,\n",
    "                \"routeId\": update.routeId,\n",
    "                \"startDate\":update.startDate,\n",
    "                \"direction\":update.direction,\n",
    "                \"futureStops\": update.futureStops,\n",
    "                \"currentStopId\":update.vehicleData.currentStopId,\n",
    "                \"currentStopStatus\":update.vehicleData.currentStopStatus,\n",
    "                \"vehicleTimeStamp\":str(update.vehicleData.timestamp),\n",
    "                \"timeStamp\" : times\n",
    "            })\n",
    "    print \"Finish writing \" + str(len(updates)) + \" lines of data\""
   ]
  },
  {
   "cell_type": "code",
   "execution_count": 23,
   "metadata": {
    "collapsed": false
   },
   "outputs": [
    {
     "name": "stdout",
     "output_type": "stream",
     "text": [
      "1487387981\n"
     ]
    }
   ],
   "source": [
    "bar = int(time.time() - 120)\n",
    "response = table.scan(\n",
    "    FilterExpression=Attr('timeStamp').lt(bar)\n",
    ")\n",
    "items = response['Items']"
   ]
  },
  {
   "cell_type": "code",
   "execution_count": 25,
   "metadata": {
    "collapsed": false
   },
   "outputs": [],
   "source": [
    "with table.batch_writer() as batch:\n",
    "    for item in items:\n",
    "        batch.delete_item(Key={'tripId':item['tripId']})\n"
   ]
  },
  {
   "cell_type": "code",
   "execution_count": null,
   "metadata": {
    "collapsed": true
   },
   "outputs": [],
   "source": []
  }
 ],
 "metadata": {
  "kernelspec": {
   "display_name": "Python 2",
   "language": "python",
   "name": "python2"
  },
  "language_info": {
   "codemirror_mode": {
    "name": "ipython",
    "version": 2
   },
   "file_extension": ".py",
   "mimetype": "text/x-python",
   "name": "python",
   "nbconvert_exporter": "python",
   "pygments_lexer": "ipython2",
   "version": "2.7.11"
  }
 },
 "nbformat": 4,
 "nbformat_minor": 0
}
